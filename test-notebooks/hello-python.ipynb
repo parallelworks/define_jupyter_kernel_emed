{
 "cells": [
  {
   "cell_type": "code",
   "execution_count": null,
   "metadata": {},
   "outputs": [],
   "source": [
    "import socket\n",
    "print(socket.gethostname())"
   ]
  },
  {
   "cell_type": "code",
   "execution_count": null,
   "metadata": {},
   "outputs": [],
   "source": []
  }
 ],
 "metadata": {
  "kernelspec": {
   "display_name": "SSH test-tensorflow_latest-gpu-jupyter-extra.sif.partition test-tensorflow_latest-gpu-jupyter-extra.sif",
   "language": "",
   "name": "rik_ssh_test_tensorflow_latest_gpu_jupyter_extra_sif_partition_testtensorflow_latestgpujupyterextrasif"
  },
  "language_info": {
   "codemirror_mode": {
    "name": "ipython",
    "version": 3
   },
   "file_extension": ".py",
   "mimetype": "text/x-python",
   "name": "python",
   "nbconvert_exporter": "python",
   "pygments_lexer": "ipython3",
   "version": "3.6.13"
  }
 },
 "nbformat": 4,
 "nbformat_minor": 2
}
